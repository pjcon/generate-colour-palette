{
 "cells": [
  {
   "cell_type": "code",
   "execution_count": 1,
   "id": "c975df0a-1343-40b4-a2c9-e27865864116",
   "metadata": {},
   "outputs": [],
   "source": [
    "import colours"
   ]
  },
  {
   "cell_type": "code",
   "execution_count": 13,
   "id": "ff552be8-a61e-41d6-885f-2c481044c1d6",
   "metadata": {},
   "outputs": [
    {
     "data": {
      "text/plain": [
       "ColourOptimiseResult(original=[(-0.0720179554669583, 1, 0.5), (36.58743877797941, 1, 0.5), (67.53595791643079, 1, 0.5), (103.9274853850073, 1, 0.5), (165.56630442312047, 1, 0.5), (181.02789961218167, 1, 0.5), (210.9356823264347, 1, 0.5), (251.07599128426588, 1, 0.5), (289.40256439015434, 1, 0.5), (324.803325041293, 1, 0.5)], optimised=[(0.0, 1, 0.5), (36.0, 1, 0.5), (72.0, 1, 0.5), (108.0, 1, 0.5), (144.0, 1, 0.5), (180.0, 1, 0.5), (216.0, 1, 0.5), (252.0, 1, 0.5), (288.0, 1, 0.5), (324.0, 1, 0.5)])"
      ]
     },
     "execution_count": 13,
     "metadata": {},
     "output_type": "execute_result"
    }
   ],
   "source": [
    "res = colours.generate_palette(10)\n",
    "res"
   ]
  },
  {
   "cell_type": "code",
   "execution_count": 14,
   "id": "2aff805f-45fa-4b6b-8526-37a1936a2da6",
   "metadata": {},
   "outputs": [],
   "source": [
    "original_colours, optimised_colours = res"
   ]
  },
  {
   "cell_type": "code",
   "execution_count": 15,
   "id": "5fbc0b40-2c8a-4a9f-b104-2526716299ce",
   "metadata": {},
   "outputs": [
    {
     "data": {
      "text/plain": [
       "[(-0.0720179554669583, 1, 0.5),\n",
       " (36.58743877797941, 1, 0.5),\n",
       " (67.53595791643079, 1, 0.5),\n",
       " (103.9274853850073, 1, 0.5),\n",
       " (165.56630442312047, 1, 0.5),\n",
       " (181.02789961218167, 1, 0.5),\n",
       " (210.9356823264347, 1, 0.5),\n",
       " (251.07599128426588, 1, 0.5),\n",
       " (289.40256439015434, 1, 0.5),\n",
       " (324.803325041293, 1, 0.5)]"
      ]
     },
     "execution_count": 15,
     "metadata": {},
     "output_type": "execute_result"
    }
   ],
   "source": [
    "original_colours"
   ]
  },
  {
   "cell_type": "code",
   "execution_count": 27,
   "id": "e5b8731a-ccfc-4b04-90ec-21f1c886f4c9",
   "metadata": {},
   "outputs": [],
   "source": [
    "from colormath.color_objects import sRGBColor, HSLColor"
   ]
  },
  {
   "cell_type": "code",
   "execution_count": 28,
   "id": "89839376-655a-46c0-bf0b-d6b34fa02dbb",
   "metadata": {},
   "outputs": [],
   "source": [
    "i = sRGBColor(0.5,0.6,0.7)"
   ]
  },
  {
   "cell_type": "code",
   "execution_count": 29,
   "id": "d25f887d-f928-483e-a8e7-18c068fd2ef2",
   "metadata": {},
   "outputs": [
    {
     "data": {
      "text/plain": [
       "'#8099b3'"
      ]
     },
     "execution_count": 29,
     "metadata": {},
     "output_type": "execute_result"
    }
   ],
   "source": [
    "i.get_rgb_hex()"
   ]
  },
  {
   "cell_type": "code",
   "execution_count": 30,
   "id": "a208620f-42d0-4621-8af0-149ed273473c",
   "metadata": {},
   "outputs": [],
   "source": [
    "from colormath.color_conversions import convert_color"
   ]
  },
  {
   "cell_type": "code",
   "execution_count": 37,
   "id": "112aced2-aea4-40c1-a079-1a135475c597",
   "metadata": {},
   "outputs": [],
   "source": [
    "hsl_to_rgbh = lambda HSL: convert_color(HSLColor(h,s,l), sRGBColor).get_rgb_hex() for h,s,l in HSLset]"
   ]
  },
  {
   "cell_type": "code",
   "execution_count": 37,
   "id": "adf08aa4-6b6d-4b32-a37c-ee6769786e6e",
   "metadata": {},
   "outputs": [],
   "source": [
    "convert_hsl_set = lambda HSLset: [convert_color(HSLColor(h,s,l), sRGBColor).get_rgb_hex() for h,s,l in HSLset]"
   ]
  },
  {
   "cell_type": "code",
   "execution_count": 38,
   "id": "2a81c7af-e49b-413d-88dd-811419fafc8c",
   "metadata": {},
   "outputs": [
    {
     "data": {
      "text/plain": [
       "['#ff0000',\n",
       " '#ff9b00',\n",
       " '#dfff00',\n",
       " '#44ff00',\n",
       " '#00ffc2',\n",
       " '#00fbff',\n",
       " '#007cff',\n",
       " '#2f00ff',\n",
       " '#d200ff',\n",
       " '#ff0096']"
      ]
     },
     "execution_count": 38,
     "metadata": {},
     "output_type": "execute_result"
    }
   ],
   "source": [
    "hsl_to_rgbh(original_colours)"
   ]
  },
  {
   "cell_type": "code",
   "execution_count": null,
   "id": "952e6cf0-c40b-449d-ab00-5627a29f3e7f",
   "metadata": {},
   "outputs": [],
   "source": []
  },
  {
   "cell_type": "code",
   "execution_count": 40,
   "id": "a403d2e0-c6a5-41ee-b48f-e3334e8978ed",
   "metadata": {},
   "outputs": [
    {
     "data": {
      "text/plain": [
       "[(5, 0), (6, 2)]"
      ]
     },
     "execution_count": 40,
     "metadata": {},
     "output_type": "execute_result"
    }
   ],
   "source": [
    "# Load conf/ini and save to png\n",
    "sorted([(6,2), (5,0)])\n"
   ]
  },
  {
   "cell_type": "code",
   "execution_count": null,
   "id": "82f2e4be-bd45-454f-800d-4438ac411a27",
   "metadata": {},
   "outputs": [],
   "source": []
  }
 ],
 "metadata": {
  "kernelspec": {
   "display_name": "Python 3",
   "language": "python",
   "name": "python3"
  },
  "language_info": {
   "codemirror_mode": {
    "name": "ipython",
    "version": 3
   },
   "file_extension": ".py",
   "mimetype": "text/x-python",
   "name": "python",
   "nbconvert_exporter": "python",
   "pygments_lexer": "ipython3",
   "version": "3.9.5"
  }
 },
 "nbformat": 4,
 "nbformat_minor": 5
}
