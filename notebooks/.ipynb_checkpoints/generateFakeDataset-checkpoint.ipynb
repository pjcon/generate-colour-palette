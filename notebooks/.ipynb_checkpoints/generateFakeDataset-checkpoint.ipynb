{
 "cells": [
  {
   "cell_type": "code",
   "execution_count": 1,
   "id": "6cbf57c4-309f-4cf8-82e9-cf8b3fade1c7",
   "metadata": {},
   "outputs": [],
   "source": [
    "import pandas"
   ]
  },
  {
   "cell_type": "code",
   "execution_count": 24,
   "id": "8b8dac5b-d6b7-455b-84ba-2824cace7bd3",
   "metadata": {},
   "outputs": [],
   "source": [
    "import matplotlib.pyplot as plt"
   ]
  },
  {
   "cell_type": "markdown",
   "id": "1ada7992-f697-4f4a-beb4-a831e6685996",
   "metadata": {},
   "source": [
    "### Generate dates"
   ]
  },
  {
   "cell_type": "code",
   "execution_count": 11,
   "id": "77d116d2-5d71-4a76-98a8-80de868b7bd6",
   "metadata": {},
   "outputs": [],
   "source": [
    "from datetime import datetime as D\n",
    "import numpy as np"
   ]
  },
  {
   "cell_type": "code",
   "execution_count": 12,
   "id": "f228861c-8555-40ec-93e7-ec7fb6ba428f",
   "metadata": {},
   "outputs": [],
   "source": [
    "yr_sec = 3.2e7\n",
    "n_yr = 3"
   ]
  },
  {
   "cell_type": "code",
   "execution_count": 13,
   "id": "11ed2e0b-80ac-4f76-9838-102f954d3271",
   "metadata": {},
   "outputs": [],
   "source": [
    "gen_timestamps = lambda n: [D.now().timestamp() - n_yr*yr_sec*np.random.random() for i in range(n)]"
   ]
  },
  {
   "cell_type": "code",
   "execution_count": 14,
   "id": "cc106b2c-befc-45cf-b0f3-d909dc521e24",
   "metadata": {},
   "outputs": [
    {
     "data": {
      "text/plain": [
       "[1546638805.5470178,\n",
       " 1567852314.913588,\n",
       " 1557678967.983418,\n",
       " 1617334571.5238483,\n",
       " 1609216767.7515557,\n",
       " 1540029088.944166,\n",
       " 1555216079.0197878,\n",
       " 1541486881.0219615,\n",
       " 1608484261.402189,\n",
       " 1590425137.0333838]"
      ]
     },
     "execution_count": 14,
     "metadata": {},
     "output_type": "execute_result"
    }
   ],
   "source": [
    "gen_timestamps(10)"
   ]
  },
  {
   "cell_type": "markdown",
   "id": "0d7a6784-2884-43a4-a727-7372ee30bc48",
   "metadata": {},
   "source": [
    "### Generate cores"
   ]
  },
  {
   "cell_type": "code",
   "execution_count": 84,
   "id": "f15244fc-a1e7-4913-93a4-41d099c0d253",
   "metadata": {},
   "outputs": [],
   "source": [
    "nt = np.arange(10) + 1\n",
    "gen_cores = lambda n: list(32*((2*np.random.random(n))*(np.arange(n)+1)).astype(int))"
   ]
  },
  {
   "cell_type": "code",
   "execution_count": 85,
   "id": "4dd127a7-ffdc-44c4-adf3-4a9991a7836a",
   "metadata": {},
   "outputs": [
    {
     "data": {
      "text/plain": [
       "[<matplotlib.lines.Line2D at 0x7f93d43b9b80>]"
      ]
     },
     "execution_count": 85,
     "metadata": {},
     "output_type": "execute_result"
    },
    {
     "data": {
      "image/png": "[encoded data removed]",
      "text/plain": [
       "<Figure size 432x288 with 1 Axes>"
      ]
     },
     "metadata": {
      "needs_background": "light"
     },
     "output_type": "display_data"
    }
   ],
   "source": [
    "plt.plot(gen_cores(10), '.')"
   ]
  },
  {
   "cell_type": "markdown",
   "id": "bbbfc88e-2b0f-4029-ab48-3007f3053f51",
   "metadata": {},
   "source": [
    "### Generate Sites"
   ]
  },
  {
   "cell_type": "code",
   "execution_count": 86,
   "id": "b7bd252a-1f66-49b3-bc02-c6a89e53a16f",
   "metadata": {},
   "outputs": [],
   "source": [
    "Sites = [\"ral-cloud244\", \"UK-CAM-CUMULUS47\", \"UKI-LT2-IC-HEP25\", \"UKI-NORTHGRID-MAN-HEP14\", \"RAL-LCG211\", \"UKI-NORTHGRID-LANCS-HEP7\", \"UKI-SOUTHGRID-RALPP5\", \"UKI-SCOTGRID-GLASGOW4\", \"UKI-LT2-QMUL4\", \"UKI-NORTHGRID-LIV-HEP3\", \"UKI-SCOTGRID-ECDF2\", \"UKI-SOUTHGRID-OX-HEP2\", \"UKI-SOUTHGRID-BRIS-HEP1\", \"UKI-LT2-Brunel9\", \"UKI-NORTHGRID-SHEF-HEP7\", \"UKI-SOUTHGRID-CAM-HEP\", \"UKI-SOUTHGRID-BHAM-HEP\", \"UKI-LT2-RH\"]"
   ]
  },
  {
   "cell_type": "code",
   "execution_count": 87,
   "id": "70834b3e-c771-4554-a3c0-2895feeaa4fb",
   "metadata": {},
   "outputs": [],
   "source": [
    "gen_sites = lambda n: [np.random.choice(Sites) for i in range(n)]"
   ]
  },
  {
   "cell_type": "markdown",
   "id": "21fffe3d-a247-4a83-9b65-1505c8450ab5",
   "metadata": {},
   "source": [
    "### Generate VOs"
   ]
  },
  {
   "cell_type": "code",
   "execution_count": 88,
   "id": "73ba4741-8dd8-4319-be45-7c6b0de3f043",
   "metadata": {},
   "outputs": [],
   "source": [
    "# VOs would be grouped by site, but don't care here\n",
    "VOs = [\"AENEAS\", \"Allocation\", \"CCFE\", \"CLF\", \"Capacity\", \"Diamond\", \"EUCLID\", \"ISIS\", \"LSST\", \"RAL-LCG2\", \"UK-CAM-CUMULUS\", \"UKI-LT2-Brunel\", \"UKI-LT2-IC-HEP\", \"UKI-LT2-QMUL\", \"UKI-LT2-RHUL\", \"UKI-NORTHGRID-LANCS-HEP\", \"UKI-NORTHGRID-LIV-HEP\", \"UKI-NORTHGRID-MAN-HEP\", \"UKI-NORTHGRID-SHEF-HEP\", \"UKI-SCOTGRID-ECDF\", \"UKI-SCOTGRID-GLASGOW\", \"UKI-SOUTHGRID-BHAM-HEP\", \"UKI-SOUTHGRID-BRIS-HEP\", \"UKI-SOUTHGRID-CAM-HEP\", \"UKI-SOUTHGRID-OX-HEP\", \"UKI-SOUTHGRID-RALPP\", \"casu\", \"dirac\", \"dune\", \"eMERLIN\", \"gaia\", \"gaia-dev\", \"gaia-prod\", \"gaia-test\", \"iris.ac.uk\", \"jintrac\", \"lsst\", \"lz\", \"ral-cloud\", \"skatelescope.eu\", \"vcycle\", \"virgo\", \"vo.cta.in2p3.fr\" ]"
   ]
  },
  {
   "cell_type": "code",
   "execution_count": 89,
   "id": "50877e42-5984-44b5-ae1b-31a87ae0b2fc",
   "metadata": {},
   "outputs": [],
   "source": [
    "gen_vos = lambda n: [np.random.choice(VOs) for i in range(n)]"
   ]
  },
  {
   "cell_type": "code",
   "execution_count": null,
   "id": "b31935e0-7f02-4de8-acfd-f87923fc487e",
   "metadata": {},
   "outputs": [],
   "source": []
  },
  {
   "cell_type": "markdown",
   "id": "859f866f-248e-4e86-b490-d9d82e69f8c0",
   "metadata": {},
   "source": [
    "## Generate dataset"
   ]
  },
  {
   "cell_type": "code",
   "execution_count": 127,
   "id": "e5dcc0b2-14ff-4bff-85b3-bab572ee823b",
   "metadata": {},
   "outputs": [],
   "source": [
    "def gen_dataset(N):\n",
    "    import pandas as pd\n",
    "    dates = sorted(gen_timestamps(N))\n",
    "    cores = gen_cores(N)\n",
    "    sites = gen_sites(N)\n",
    "    vos = gen_vos(N)\n",
    "    \n",
    "    columns = ['timestamp', 'cores', 'site', 'vo']\n",
    "    dtypes = [float, int, str, str]\n",
    "    \n",
    "    return pd.DataFrame(np.stack([dates, cores, sites, vos]).T, columns=columns, dtype=object)\n",
    "    "
   ]
  },
  {
   "cell_type": "code",
   "execution_count": 128,
   "id": "cb0e58da-1c97-4185-b5fa-d30e90b7d16f",
   "metadata": {},
   "outputs": [],
   "source": [
    "N = 10000"
   ]
  },
  {
   "cell_type": "code",
   "execution_count": 129,
   "id": "91f0e558-7965-4c84-90f8-16bccbf88fde",
   "metadata": {},
   "outputs": [],
   "source": [
    "dataset = gen_dataset(N)"
   ]
  },
  {
   "cell_type": "code",
   "execution_count": 130,
   "id": "b8b70bd9-793a-4414-a122-ae7fe639b566",
   "metadata": {},
   "outputs": [],
   "source": [
    "dataset.to_csv(f'fakeDataset_{N}.2.csv')"
   ]
  },
  {
   "cell_type": "code",
   "execution_count": null,
   "id": "716f0b34-ef8c-4879-b6ee-a1d6f33d7459",
   "metadata": {},
   "outputs": [],
   "source": []
  }
 ],
 "metadata": {
  "kernelspec": {
   "display_name": "Python 3",
   "language": "python",
   "name": "python3"
  },
  "language_info": {
   "codemirror_mode": {
    "name": "ipython",
    "version": 3
   },
   "file_extension": ".py",
   "mimetype": "text/x-python",
   "name": "python",
   "nbconvert_exporter": "python",
   "pygments_lexer": "ipython3",
   "version": "3.9.5"
  }
 },
 "nbformat": 4,
 "nbformat_minor": 5
}
